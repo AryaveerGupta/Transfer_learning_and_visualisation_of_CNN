{
  "nbformat": 4,
  "nbformat_minor": 0,
  "metadata": {
    "colab": {
      "provenance": [],
      "authorship_tag": "ABX9TyOyA184xPUgVsGDjBovi6Fa",
      "include_colab_link": true
    },
    "kernelspec": {
      "name": "python3",
      "display_name": "Python 3"
    },
    "language_info": {
      "name": "python"
    }
  },
  "cells": [
    {
      "cell_type": "markdown",
      "metadata": {
        "id": "view-in-github",
        "colab_type": "text"
      },
      "source": [
        "<a href=\"https://colab.research.google.com/github/AryaveerGupta/Transfer_learning_and_visualisation_of_CNN/blob/main/classification_without_tranfer_learning.ipynb\" target=\"_parent\"><img src=\"https://colab.research.google.com/assets/colab-badge.svg\" alt=\"Open In Colab\"/></a>"
      ]
    },
    {
      "cell_type": "code",
      "execution_count": 40,
      "metadata": {
        "colab": {
          "base_uri": "https://localhost:8080/"
        },
        "id": "4DuEefbIMVFR",
        "outputId": "8885d862-c20e-4e88-a3e1-e906c49816cf"
      },
      "outputs": [
        {
          "output_type": "stream",
          "name": "stdout",
          "text": [
            "Drive already mounted at /content/drive; to attempt to forcibly remount, call drive.mount(\"/content/drive\", force_remount=True).\n"
          ]
        }
      ],
      "source": [
        "from google.colab import drive\n",
        "\n",
        "# Mount Google Drive\n",
        "drive.mount('/content/drive')"
      ]
    },
    {
      "cell_type": "code",
      "source": [
        "import os\n",
        "# from google.colab import drive\n",
        "import tensorflow as tf\n",
        "from tensorflow import keras\n",
        "from keras.utils.vis_utils import plot_model\n",
        "from keras.utils import load_img\n",
        "import numpy as np\n",
        "import pandas as pd\n",
        "from keras.layers import Dense\n",
        "from tensorflow.keras import layers\n",
        "from tensorflow.keras.initializers import glorot_normal\n",
        "from tensorflow.keras.callbacks import ModelCheckpoint\n",
        "import matplotlib.pyplot as plt\n",
        "from sklearn.metrics import confusion_matrix\n",
        "import itertools\n",
        "\n",
        "# Display\n",
        "# from IPython.display import Image, display\n",
        "import matplotlib.cm as cm\n",
        "from PIL import Image as PILImage"
      ],
      "metadata": {
        "id": "8UKxaRZ-N_-j"
      },
      "execution_count": 41,
      "outputs": []
    },
    {
      "cell_type": "code",
      "source": [
        "path_in = '/content/drive/MyDrive/Group_20'\n",
        "random_seed = 10\n",
        "class_names = ['brain', 'butterfly', 'ewer', 'helicopter', 'ketch']\n",
        "normalization_layer = tf.keras.layers.Rescaling(1./255)\n",
        "\n",
        "## read training data\n",
        "train_ds = tf.keras.utils.image_dataset_from_directory(\n",
        "    path_in + '/train/',\n",
        "    batch_size=32,\n",
        "    seed = random_seed,\n",
        "    image_size=(224, 224)\n",
        ").map(lambda x, y: (normalization_layer(x), y))"
      ],
      "metadata": {
        "colab": {
          "base_uri": "https://localhost:8080/"
        },
        "id": "aXupmyD6MzWE",
        "outputId": "a1f78b63-fe73-49e6-9f58-ec1dce87076b"
      },
      "execution_count": 42,
      "outputs": [
        {
          "output_type": "stream",
          "name": "stdout",
          "text": [
            "Found 250 files belonging to 5 classes.\n"
          ]
        }
      ]
    },
    {
      "cell_type": "code",
      "source": [
        "valid_ds = tf.keras.utils.image_dataset_from_directory(\n",
        "    path_in + '/val/',\n",
        "    batch_size=32,\n",
        "    seed = random_seed,\n",
        "    image_size=(224, 224),\n",
        "    shuffle=False\n",
        ").map(lambda x, y: (normalization_layer(x), y))"
      ],
      "metadata": {
        "colab": {
          "base_uri": "https://localhost:8080/"
        },
        "id": "hjxksISPN3qb",
        "outputId": "a747c580-4b94-4b98-be01-9643517f7241"
      },
      "execution_count": 43,
      "outputs": [
        {
          "output_type": "stream",
          "name": "stdout",
          "text": [
            "Found 50 files belonging to 5 classes.\n"
          ]
        }
      ]
    },
    {
      "cell_type": "code",
      "source": [
        "# load test dataset\n",
        "test_ds = tf.keras.utils.image_dataset_from_directory(\n",
        "    path_in + '/test/',\n",
        "    batch_size=32,\n",
        "    seed = random_seed,\n",
        "    image_size=(224, 224)\n",
        ").map(lambda x, y: (normalization_layer(x), y))"
      ],
      "metadata": {
        "colab": {
          "base_uri": "https://localhost:8080/"
        },
        "id": "xa7kakdlN7SC",
        "outputId": "b742c0aa-6ff2-4bb4-a860-12eb0adc9481"
      },
      "execution_count": 44,
      "outputs": [
        {
          "output_type": "stream",
          "name": "stdout",
          "text": [
            "Found 100 files belonging to 5 classes.\n"
          ]
        }
      ]
    },
    {
      "cell_type": "code",
      "source": [
        "import keras\n",
        "from keras.models import Sequential\n",
        "from keras.layers import Conv2D, MaxPooling2D, Flatten, Dense\n",
        "\n",
        "# Create a Sequential model\n",
        "model = Sequential()\n",
        "\n",
        "# Add a 2D convolutional layer with 32 filters, a 3x3 kernel, and 'relu' activation\n",
        "model.add(Conv2D(32, kernel_size=(3, 3), activation='relu', input_shape=(224,224,3)))\n",
        "\n",
        "# Add a max pooling layer with a 2x2 pool size\n",
        "model.add(MaxPooling2D(pool_size=(2, 2)))\n",
        "\n",
        "# Add another 2D convolutional layer with 64 filters, a 3x3 kernel, and 'relu' activation\n",
        "model.add(Conv2D(64, kernel_size=(3, 3), activation='relu'))\n",
        "\n",
        "# Add another max pooling layer with a 2x2 pool size\n",
        "model.add(MaxPooling2D(pool_size=(2, 2)))\n",
        "\n",
        "# Flatten the tensor output from the previous layer\n",
        "model.add(Flatten())\n",
        "\n",
        "# Add a fully connected layer with 128 units and 'relu' activation\n",
        "model.add(Dense(128, activation='relu'))\n",
        "\n",
        "# Add the output layer with the appropriate number of classes and 'softmax' activation\n",
        "model.add(Dense(5, activation='softmax'))\n",
        "\n",
        "# Compile the model\n",
        "model.compile(optimizer='adam', loss='categorical_crossentropy', metrics=['accuracy'])\n",
        "\n",
        "# Print a summary of the model architecture\n",
        "model.summary()\n"
      ],
      "metadata": {
        "colab": {
          "base_uri": "https://localhost:8080/"
        },
        "id": "94SVr8-kMWwE",
        "outputId": "f26ed991-fa6a-4f65-d8a3-830bbfbcbf9a"
      },
      "execution_count": 45,
      "outputs": [
        {
          "output_type": "stream",
          "name": "stdout",
          "text": [
            "Model: \"sequential_3\"\n",
            "_________________________________________________________________\n",
            " Layer (type)                Output Shape              Param #   \n",
            "=================================================================\n",
            " conv2d_6 (Conv2D)           (None, 222, 222, 32)      896       \n",
            "                                                                 \n",
            " max_pooling2d_6 (MaxPooling  (None, 111, 111, 32)     0         \n",
            " 2D)                                                             \n",
            "                                                                 \n",
            " conv2d_7 (Conv2D)           (None, 109, 109, 64)      18496     \n",
            "                                                                 \n",
            " max_pooling2d_7 (MaxPooling  (None, 54, 54, 64)       0         \n",
            " 2D)                                                             \n",
            "                                                                 \n",
            " flatten_3 (Flatten)         (None, 186624)            0         \n",
            "                                                                 \n",
            " dense_6 (Dense)             (None, 128)               23888000  \n",
            "                                                                 \n",
            " dense_7 (Dense)             (None, 5)                 645       \n",
            "                                                                 \n",
            "=================================================================\n",
            "Total params: 23,908,037\n",
            "Trainable params: 23,908,037\n",
            "Non-trainable params: 0\n",
            "_________________________________________________________________\n"
          ]
        }
      ]
    },
    {
      "cell_type": "code",
      "source": [
        "\n",
        "# Define the function to convert labels\n",
        "def convert_labels(image, label):\n",
        "    num_classes = 5\n",
        "    converted_label = tf.one_hot(label, num_classes)\n",
        "    return image, converted_label\n",
        "\n",
        "# Apply the label conversion using map function\n",
        "train_ds = train_ds.map(convert_labels)\n",
        "valid_ds = valid_ds.map(convert_labels)\n",
        "test_ds = test_ds.map(convert_labels)\n",
        "\n",
        "\n"
      ],
      "metadata": {
        "id": "JTZ8caG7bTAH"
      },
      "execution_count": 46,
      "outputs": []
    },
    {
      "cell_type": "code",
      "source": [
        "# Train the model\n",
        "model.fit(train_ds, batch_size=32, epochs=10, validation_data= valid_ds)"
      ],
      "metadata": {
        "colab": {
          "base_uri": "https://localhost:8080/"
        },
        "id": "7-g08zwePAC5",
        "outputId": "2f199389-1f94-42f8-e857-16edc175f9b8"
      },
      "execution_count": 47,
      "outputs": [
        {
          "output_type": "stream",
          "name": "stdout",
          "text": [
            "Epoch 1/10\n",
            "8/8 [==============================] - 31s 4s/step - loss: 4.8867 - accuracy: 0.1880 - val_loss: 1.4862 - val_accuracy: 0.2600\n",
            "Epoch 2/10\n",
            "8/8 [==============================] - 28s 3s/step - loss: 1.3708 - accuracy: 0.3640 - val_loss: 1.2681 - val_accuracy: 0.5000\n",
            "Epoch 3/10\n",
            "8/8 [==============================] - 27s 3s/step - loss: 0.8574 - accuracy: 0.7600 - val_loss: 0.6528 - val_accuracy: 0.8200\n",
            "Epoch 4/10\n",
            "8/8 [==============================] - 26s 3s/step - loss: 0.3821 - accuracy: 0.8840 - val_loss: 0.5220 - val_accuracy: 0.8400\n",
            "Epoch 5/10\n",
            "8/8 [==============================] - 26s 3s/step - loss: 0.1689 - accuracy: 0.9560 - val_loss: 1.0183 - val_accuracy: 0.7600\n",
            "Epoch 6/10\n",
            "8/8 [==============================] - 26s 3s/step - loss: 0.1322 - accuracy: 0.9520 - val_loss: 0.5250 - val_accuracy: 0.8200\n",
            "Epoch 7/10\n",
            "8/8 [==============================] - 27s 3s/step - loss: 0.0569 - accuracy: 0.9960 - val_loss: 0.6027 - val_accuracy: 0.8200\n",
            "Epoch 8/10\n",
            "8/8 [==============================] - 27s 3s/step - loss: 0.0174 - accuracy: 1.0000 - val_loss: 0.7867 - val_accuracy: 0.8400\n",
            "Epoch 9/10\n",
            "8/8 [==============================] - 38s 5s/step - loss: 0.0317 - accuracy: 0.9880 - val_loss: 1.3324 - val_accuracy: 0.7600\n",
            "Epoch 10/10\n",
            "8/8 [==============================] - 28s 3s/step - loss: 0.0097 - accuracy: 1.0000 - val_loss: 1.0292 - val_accuracy: 0.8200\n"
          ]
        },
        {
          "output_type": "execute_result",
          "data": {
            "text/plain": [
              "<keras.callbacks.History at 0x7f1f3129a980>"
            ]
          },
          "metadata": {},
          "execution_count": 47
        }
      ]
    },
    {
      "cell_type": "code",
      "source": [
        "test_loss ,  test_acc =  model.evaluate(test_ds,verbose = 0 )"
      ],
      "metadata": {
        "id": "ZYO1oiBgMjXj"
      },
      "execution_count": 48,
      "outputs": []
    },
    {
      "cell_type": "code",
      "source": [
        "print(\"Test accuracy : \", test_acc)"
      ],
      "metadata": {
        "colab": {
          "base_uri": "https://localhost:8080/"
        },
        "id": "bo18cGfyvP7W",
        "outputId": "ea652a42-22a0-4cca-a644-7f0b986d35e4"
      },
      "execution_count": 49,
      "outputs": [
        {
          "output_type": "stream",
          "name": "stdout",
          "text": [
            "Test accuracy :  0.6600000262260437\n"
          ]
        }
      ]
    }
  ]
}